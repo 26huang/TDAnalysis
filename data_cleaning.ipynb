{
 "cells": [
  {
   "cell_type": "code",
   "execution_count": null,
   "id": "2a616e9f",
   "metadata": {},
   "outputs": [],
   "source": [
    "import pandas as pd\n",
    "import sqlite3"
   ]
  },
  {
   "cell_type": "code",
   "execution_count": null,
   "id": "b7cd6530",
   "metadata": {},
   "outputs": [],
   "source": [
    "df_bal = pd.read_csv('./data/balance.csv', delimiter=';', dtype='str')\n",
    "df_2015 = pd.read_csv('./data/2015.csv', dtype='str')\n",
    "df_2015 = df_2015[df_2015['TRANSACTION ID'].notna()]\n",
    "df_2016 = pd.read_csv('./data/2016.csv', dtype='str')\n",
    "df_2016 = df_2016[df_2016['TRANSACTION ID'].notna()]\n",
    "df_2017 = pd.read_csv('./data/2017.csv', dtype='str')\n",
    "df_2017 = df_2017[df_2017['TRANSACTION ID'].notna()]"
   ]
  },
  {
   "cell_type": "code",
   "execution_count": null,
   "id": "3f62cb20",
   "metadata": {},
   "outputs": [],
   "source": [
    "df_trans = pd.concat([df_2015, df_2016, df_2017])"
   ]
  },
  {
   "cell_type": "code",
   "execution_count": null,
   "id": "a1d89114",
   "metadata": {},
   "outputs": [],
   "source": [
    "df_trans.columns = [i.strip().lower() for i in df_trans.columns]"
   ]
  },
  {
   "cell_type": "code",
   "execution_count": null,
   "id": "ea3da9d0",
   "metadata": {},
   "outputs": [],
   "source": [
    "df_bal.columns = [i.strip().lower() for i in df_bal.columns]"
   ]
  },
  {
   "cell_type": "code",
   "execution_count": null,
   "id": "544f29ee",
   "metadata": {},
   "outputs": [],
   "source": [
    "df_comb = pd.merge(df_trans, df_bal, how='left', on='date')"
   ]
  },
  {
   "cell_type": "code",
   "execution_count": null,
   "id": "f7140d2d",
   "metadata": {},
   "outputs": [],
   "source": [
    "df_comb.to_csv('./data/combined_transactions.csv')"
   ]
  },
  {
   "cell_type": "code",
   "execution_count": null,
   "id": "11a63f3b",
   "metadata": {},
   "outputs": [],
   "source": [
    "df_comb['words'] = df_comb['description'].apply(lambda x: x.split())"
   ]
  },
  {
   "cell_type": "code",
   "execution_count": null,
   "id": "3cd9431e",
   "metadata": {},
   "outputs": [],
   "source": [
    "def sort_categories(desc_words):\n",
    "    if 'Call' in desc_words or 'Put' in desc_words:\n",
    "        return 'option'\n",
    "    elif 'Bought' in desc_words or 'Sold' in desc_words:\n",
    "        return 'stock'\n",
    "    elif 'EXPIRATION' in desc_words or 'EXERCISE' in desc_words:\n",
    "        return 'expiration'\n",
    "    elif 'ASSIGNMENT' in desc_words:\n",
    "        return 'assignment'\n",
    "    elif 'DIVIDEND' in desc_words:\n",
    "        return 'dividend'\n",
    "    elif 'FUNDING' in desc_words:\n",
    "        return 'funds'\n",
    "    elif 'MARGIN' in desc_words:\n",
    "        return 'margin interest'\n",
    "#     elif 'OFF-CYCLE' in desc_words:\n",
    "#         return 'off-cycle interest'\n",
    "    elif 'FUTURES' in desc_words:\n",
    "        return 'futures'\n",
    "#     elif 'MARK' in desc_words:\n",
    "#         return 'mark to market'\n",
    "#     elif 'REBATE' in desc_words:\n",
    "#         return 'rebate'\n",
    "#     elif 'INTERNAL' in desc_words and 'CASH' in desc_words:\n",
    "#         return 'internal cash transfer'\n",
    "    elif 'INTEREST' in desc_words and 'ADJUSTMENT' in desc_words:\n",
    "        return 'interest adjustment'\n",
    "#     elif 'INTERNAL' in desc_words and 'ACCOUNT' in desc_words:\n",
    "#         return 'internal account transfer'\n",
    "#     elif 'MISCELLANEOUS' in desc_words:\n",
    "#         return 'miscellaneous'\n",
    "    else:\n",
    "        return 'miscellaneous'\n",
    "    \n",
    "def get_underlying(symbol):\n",
    "    try:\n",
    "        underlying = symbol.split()[0]\n",
    "        return underlying\n",
    "    except BaseException:\n",
    "        return "
   ]
  },
  {
   "cell_type": "code",
   "execution_count": null,
   "id": "dd2d3d44",
   "metadata": {},
   "outputs": [],
   "source": [
    "df_comb['category'] = df_comb['words'].apply(lambda x: sort_categories(x))\n",
    "df_comb['underlying'] = df_comb['symbol'].apply(lambda x: get_underlying(x))"
   ]
  },
  {
   "cell_type": "code",
   "execution_count": null,
   "id": "118a433f",
   "metadata": {},
   "outputs": [],
   "source": [
    "df_comb"
   ]
  },
  {
   "cell_type": "code",
   "execution_count": null,
   "id": "0a676290",
   "metadata": {},
   "outputs": [],
   "source": [
    "df_comb.columns"
   ]
  },
  {
   "cell_type": "code",
   "execution_count": null,
   "id": "2dcdbe39",
   "metadata": {},
   "outputs": [],
   "source": [
    "df_comb.to_excel('./data/processed.xlsx', index=False)"
   ]
  },
  {
   "cell_type": "code",
   "execution_count": null,
   "id": "a96d64f0",
   "metadata": {},
   "outputs": [],
   "source": [
    "df_comb[df_comb['category']=='stocks']"
   ]
  },
  {
   "cell_type": "code",
   "execution_count": null,
   "id": "39231f8e",
   "metadata": {},
   "outputs": [],
   "source": [
    "df_comb[((df_comb['category']=='stock') | (df_comb['category']=='option')) & (df_comb['underlying']=='NFLX')]"
   ]
  },
  {
   "cell_type": "code",
   "execution_count": null,
   "id": "bb98d999",
   "metadata": {},
   "outputs": [],
   "source": [
    "df_comb[['price', 'commission']].fillna(0)"
   ]
  },
  {
   "cell_type": "code",
   "execution_count": null,
   "id": "2966678a",
   "metadata": {},
   "outputs": [],
   "source": []
  }
 ],
 "metadata": {
  "kernelspec": {
   "display_name": "Python 3",
   "language": "python",
   "name": "python3"
  },
  "language_info": {
   "codemirror_mode": {
    "name": "ipython",
    "version": 3
   },
   "file_extension": ".py",
   "mimetype": "text/x-python",
   "name": "python",
   "nbconvert_exporter": "python",
   "pygments_lexer": "ipython3",
   "version": "3.8.8"
  }
 },
 "nbformat": 4,
 "nbformat_minor": 5
}
